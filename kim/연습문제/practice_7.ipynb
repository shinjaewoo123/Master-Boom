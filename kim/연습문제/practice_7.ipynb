{
 "cells": [
  {
   "cell_type": "markdown",
   "metadata": {},
   "source": [
    "## 7.1"
   ]
  },
  {
   "cell_type": "code",
   "execution_count": 1,
   "metadata": {},
   "outputs": [],
   "source": [
    "import unicodedata\n",
    "mystery = '\\U0001f4a9'"
   ]
  },
  {
   "cell_type": "code",
   "execution_count": 2,
   "metadata": {},
   "outputs": [
    {
     "data": {
      "text/plain": [
       "'💩'"
      ]
     },
     "execution_count": 2,
     "metadata": {},
     "output_type": "execute_result"
    }
   ],
   "source": [
    "mystery"
   ]
  },
  {
   "cell_type": "code",
   "execution_count": 3,
   "metadata": {},
   "outputs": [
    {
     "data": {
      "text/plain": [
       "'PILE OF POO'"
      ]
     },
     "execution_count": 3,
     "metadata": {},
     "output_type": "execute_result"
    }
   ],
   "source": [
    "unicodedata.name(mystery)"
   ]
  },
  {
   "cell_type": "markdown",
   "metadata": {},
   "source": [
    "## 7.2"
   ]
  },
  {
   "cell_type": "code",
   "execution_count": 5,
   "metadata": {},
   "outputs": [
    {
     "data": {
      "text/plain": [
       "b'\\xf0\\x9f\\x92\\xa9'"
      ]
     },
     "execution_count": 5,
     "metadata": {},
     "output_type": "execute_result"
    }
   ],
   "source": [
    "pop_bytes = mystery.encode('utf-8')\n",
    "pop_bytes"
   ]
  },
  {
   "cell_type": "markdown",
   "metadata": {},
   "source": [
    "## 7.3"
   ]
  },
  {
   "cell_type": "code",
   "execution_count": 6,
   "metadata": {},
   "outputs": [
    {
     "data": {
      "text/plain": [
       "'💩'"
      ]
     },
     "execution_count": 6,
     "metadata": {},
     "output_type": "execute_result"
    }
   ],
   "source": [
    "pop_string = pop_bytes.decode('utf-8')\n",
    "pop_string"
   ]
  },
  {
   "cell_type": "code",
   "execution_count": 7,
   "metadata": {},
   "outputs": [
    {
     "data": {
      "text/plain": [
       "True"
      ]
     },
     "execution_count": 7,
     "metadata": {},
     "output_type": "execute_result"
    }
   ],
   "source": [
    "pop_string == mystery"
   ]
  },
  {
   "cell_type": "markdown",
   "metadata": {},
   "source": [
    "## 7.4 **"
   ]
  },
  {
   "cell_type": "code",
   "execution_count": 8,
   "metadata": {},
   "outputs": [
    {
     "name": "stdout",
     "output_type": "stream",
     "text": [
      "My kitty cat likes roast beef, \n",
      "My kitty cat likes ham,\n",
      "My kitty cat fell on his head\n",
      "And now thinks he's a clam\n",
      "\n"
     ]
    }
   ],
   "source": [
    "poem = '''My kitty cat likes %s, \n",
    "My kitty cat likes %s,\n",
    "My kitty cat fell on his %s\n",
    "And now thinks he's a %s\n",
    "'''\n",
    "args = ('roast beef', 'ham', 'head', 'clam')\n",
    "print(poem % args)"
   ]
  },
  {
   "cell_type": "markdown",
   "metadata": {},
   "source": [
    "## 7.5"
   ]
  },
  {
   "cell_type": "code",
   "execution_count": 14,
   "metadata": {},
   "outputs": [],
   "source": [
    "letter = '''Dear {salutation} {name},\n",
    "Thank you for your letter. We are sorry that our {product} {verbed} in your {room}.\n",
    "Please note that it should never be used in a {room}, especially near any {animals}.\n",
    "\n",
    "Send us your recepit and {amount} for shipping and handling. We will send\n",
    "you another {product} that, in our tests, is {percent}% less likely to have {verbed}.\n",
    "\n",
    "Thank you for your support.\n",
    "\n",
    "Sincerely\n",
    "{spokesman}\n",
    "{job_title}'''"
   ]
  },
  {
   "cell_type": "markdown",
   "metadata": {},
   "source": [
    "## 7.6"
   ]
  },
  {
   "cell_type": "code",
   "execution_count": 15,
   "metadata": {},
   "outputs": [
    {
     "name": "stdout",
     "output_type": "stream",
     "text": [
      "Dear Colonel Hackenbush,\n",
      "Thank you for your letter. We are sorry that our duck blind imploded in your conservatory.\n",
      "Please note that it should never be used in a conservatory, especially near any emus.\n",
      "\n",
      "Send us your recepit and $1.38 for shipping and handling. We will send\n",
      "you another duck blind that, in our tests, is 1% less likely to have imploded.\n",
      "\n",
      "Thank you for your support.\n",
      "\n",
      "Sincerely\n",
      "Edgar Schmeltz\n",
      "Licensed Podiatrist\n"
     ]
    }
   ],
   "source": [
    "response = {\n",
    "    'salutation': 'Colonel',\n",
    "    'name': 'Hackenbush',\n",
    "    'product': 'duck blind',\n",
    "    'verbed': 'imploded',\n",
    "    'room': 'conservatory',\n",
    "    'animals': 'emus',\n",
    "    'amount': '$1.38',\n",
    "    'percent': '1',\n",
    "    'spokesman': 'Edgar Schmeltz',\n",
    "    'job_title': 'Licensed Podiatrist'\n",
    "}\n",
    "\n",
    "print(letter.format(**response))"
   ]
  },
  {
   "cell_type": "markdown",
   "metadata": {},
   "source": [
    "## 7.7"
   ]
  },
  {
   "cell_type": "code",
   "execution_count": 16,
   "metadata": {},
   "outputs": [],
   "source": [
    "mammoth = '''\n",
    "We have seen the Queen of cheese, \n",
    "Laying quietly at your ease, \n",
    "Gently fanned by evening breeze -- \n",
    "Thy fair form no flies dare seize. \n",
    "\n",
    "All gaily dressed soon you'll go \n",
    "To the great Provincial Show, \n",
    "To be admired by many a beau \n",
    "In the city of Toronto. \n",
    "\n",
    "Cows numerous as a swarm of bees -- \n",
    "Or as the leaves upon the trees -- \n",
    "It did require to make thee please, \n",
    "And stand unrivalled Queen of Cheese. \n",
    "\n",
    "May you not receive a scar as \n",
    "We have heard that Mr. Harris \n",
    "Intends to send you off as far as \n",
    "The great World's show at Paris. \n",
    "\n",
    "Of the youth -- beware of these -- \n",
    "For some of them might rudely squeeze \n",
    "And bite your cheek; then songs or glees \n",
    "We could not sing o' Queen of Cheese. \n",
    "\n",
    "We'rt thou suspended from baloon, \n",
    "You'd cast a shade, even at noon; \n",
    "Folks would think it was the moon \n",
    "About to fall and crush them soon. \n",
    "'''"
   ]
  },
  {
   "cell_type": "markdown",
   "metadata": {},
   "source": [
    "## 7.8"
   ]
  },
  {
   "cell_type": "code",
   "execution_count": 18,
   "metadata": {},
   "outputs": [
    {
     "data": {
      "text/plain": [
       "['cheese', 'city', 'cheek', 'could', 'cast', 'crush']"
      ]
     },
     "execution_count": 18,
     "metadata": {},
     "output_type": "execute_result"
    }
   ],
   "source": [
    "import re\n",
    "re.findall(r'\\bc\\w*', mammoth)"
   ]
  },
  {
   "cell_type": "markdown",
   "metadata": {},
   "source": [
    "## 7.9"
   ]
  },
  {
   "cell_type": "code",
   "execution_count": 19,
   "metadata": {},
   "outputs": [
    {
     "data": {
      "text/plain": [
       "['city', 'cast']"
      ]
     },
     "execution_count": 19,
     "metadata": {},
     "output_type": "execute_result"
    }
   ],
   "source": [
    "re.findall(r'\\bc\\w{3}\\b', mammoth)"
   ]
  },
  {
   "cell_type": "code",
   "execution_count": 20,
   "metadata": {},
   "outputs": [
    {
     "data": {
      "text/plain": [
       "['chee', 'city', 'chee', 'coul', 'cast', 'crus']"
      ]
     },
     "execution_count": 20,
     "metadata": {},
     "output_type": "execute_result"
    }
   ],
   "source": [
    "re.findall(r'\\bc\\w{3}', mammoth)"
   ]
  },
  {
   "cell_type": "markdown",
   "metadata": {},
   "source": [
    "## 7.10"
   ]
  },
  {
   "cell_type": "code",
   "execution_count": 21,
   "metadata": {},
   "outputs": [
    {
     "data": {
      "text/plain": [
       "['your', 'fair', 'Or', 'scar', 'Mr', 'far', 'For', 'your', 'or']"
      ]
     },
     "execution_count": 21,
     "metadata": {},
     "output_type": "execute_result"
    }
   ],
   "source": [
    "re.findall(r'\\b\\w*r\\b', mammoth)"
   ]
  },
  {
   "cell_type": "markdown",
   "metadata": {},
   "source": [
    "## 7.11"
   ]
  },
  {
   "cell_type": "code",
   "execution_count": 23,
   "metadata": {},
   "outputs": [
    {
     "data": {
      "text/plain": [
       "['Queen', 'quietly', 'Queen', 'squeeze', 'Queen']"
      ]
     },
     "execution_count": 23,
     "metadata": {},
     "output_type": "execute_result"
    }
   ],
   "source": [
    "re.findall(r'\\b\\w*[aeiou]{3}[^aeiou]\\w*\\b', mammoth)"
   ]
  },
  {
   "cell_type": "code",
   "execution_count": null,
   "metadata": {},
   "outputs": [],
   "source": []
  }
 ],
 "metadata": {
  "kernelspec": {
   "display_name": "Python 3",
   "language": "python",
   "name": "python3"
  },
  "language_info": {
   "codemirror_mode": {
    "name": "ipython",
    "version": 3
   },
   "file_extension": ".py",
   "mimetype": "text/x-python",
   "name": "python",
   "nbconvert_exporter": "python",
   "pygments_lexer": "ipython3",
   "version": "3.6.5"
  }
 },
 "nbformat": 4,
 "nbformat_minor": 2
}
